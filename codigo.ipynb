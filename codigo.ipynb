{
 "cells": [
  {
   "cell_type": "code",
   "execution_count": 38,
   "metadata": {},
   "outputs": [],
   "source": [
    "# essas libs sao usadas para: \n",
    "import pandas as pd # manipulacao de dados\n",
    "import yfinance as yf # coleta de dados"
   ]
  },
  {
   "cell_type": "code",
   "execution_count": 39,
   "metadata": {},
   "outputs": [],
   "source": [
    "file_name = \"carteira.txt\" # nome do arquivo"
   ]
  },
  {
   "cell_type": "code",
   "execution_count": 40,
   "metadata": {},
   "outputs": [],
   "source": [
    "carteira = pd.read_csv(file_name, sep=' - ', header=None, names=['Ticker', 'Quantidade'], engine='python') # leitura do arquivo acima"
   ]
  },
  {
   "cell_type": "code",
   "execution_count": 41,
   "metadata": {},
   "outputs": [],
   "source": [
    "# removendo espaços em branco\n",
    "carteira['Ticker'] = carteira['Ticker'].str.strip() # remove espaços em branco\n",
    "carteira['Quantidade'] = carteira['Quantidade'].astype(int) # converte para inteiro"
   ]
  },
  {
   "cell_type": "code",
   "execution_count": 42,
   "metadata": {},
   "outputs": [],
   "source": [
    "def buscar_preco(ticker): # função para buscar o preço do ativo\n",
    "    try:\n",
    "        return yf.Ticker(ticker + \".SA\").history(period=\"1d\")['Close'].iloc[-1] # retorna o preço do ativo\n",
    "    except:\n",
    "        return None # retorna None caso não encontre o ativo"
   ]
  },
  {
   "cell_type": "code",
   "execution_count": 43,
   "metadata": {},
   "outputs": [],
   "source": [
    "carteira['Preço Atual'] = carteira['Ticker'].apply(buscar_preco) # adiciona a coluna Preço Atual na carteira"
   ]
  },
  {
   "cell_type": "code",
   "execution_count": 44,
   "metadata": {},
   "outputs": [],
   "source": [
    "carteira['Valor Total'] = carteira['Quantidade'] * carteira['Preço Atual'] # adiciona a coluna Valor Total na carteira"
   ]
  },
  {
   "cell_type": "code",
   "execution_count": 45,
   "metadata": {},
   "outputs": [],
   "source": [
    "valor_inicial = (carteira['Quantidade'] * carteira['Preço Atual']).sum() # calcula o valor inicial da carteira\n",
    "valor_atual = carteira['Valor Total'].sum() # calcula o valor atual da carteira"
   ]
  },
  {
   "cell_type": "code",
   "execution_count": 46,
   "metadata": {},
   "outputs": [],
   "source": [
    "df_historico = pd.concat([yf.Ticker(ticker + \".SA\").history(period=\"1d\") for ticker in carteira['Ticker']]) # pega o histórico de cada ativo\n",
    "rentabilidade_ibov = ((df_historico['Close'].iloc[-1] - df_historico['Open'].iloc[0]) / df_historico['Open'].iloc[0]) * 100 # calcula a rentabilidade do ibov\n",
    "rentabilidade = ((valor_atual - valor_inicial) / valor_inicial) * 100 # calcula a rentabilidade da carteira"
   ]
  },
  {
   "cell_type": "code",
   "execution_count": 47,
   "metadata": {},
   "outputs": [],
   "source": [
    "carteira['Contribuição (%)'] = ((carteira['Valor Total'] - (valor_inicial / len(carteira))) / valor_inicial) * 100 # calcula a contribuição de cada ativo"
   ]
  },
  {
   "cell_type": "code",
   "execution_count": 48,
   "metadata": {},
   "outputs": [
    {
     "name": "stdout",
     "output_type": "stream",
     "text": [
      "Valor Inicial da Carteira: 2919765.964317\n",
      "Valor Atual da Carteira: 2919765.964317\n",
      "Rentabilidade da Carteira: 0.0%\n",
      "Rentabilidade do Índice Bovespa: -46.9%\n",
      "\n",
      "Contribuição dos ativos para a rentabilidade total (%):\n",
      "        Contribuição (%)\n",
      "Ticker                  \n",
      "ITUB4         -18.842030\n",
      "BBAS3          75.555603\n",
      "VALE3         -19.260078\n",
      "EGIE3         -17.514184\n",
      "SLCE3         -19.939310\n"
     ]
    }
   ],
   "source": [
    "# printa os resultados\n",
    "print(f\"Valor Inicial da Carteira: {valor_inicial:.6f}\")\n",
    "print(f\"Valor Atual da Carteira: {valor_atual:.6f}\")\n",
    "print(f\"Rentabilidade da Carteira: {rentabilidade:.1f}%\")\n",
    "print(f\"Rentabilidade do Índice Bovespa: {rentabilidade_ibov:.1f}%\")\n",
    "print(\"\\nContribuição dos ativos para a rentabilidade total (%):\")\n",
    "print(carteira[['Ticker', 'Contribuição (%)']].set_index('Ticker'))"
   ]
  },
  {
   "cell_type": "code",
   "execution_count": null,
   "metadata": {},
   "outputs": [
    {
     "data": {
      "text/html": [
       "<style type=\"text/css\">\n",
       "#T_91002_row0_col0, #T_91002_row0_col1, #T_91002_row0_col2, #T_91002_row0_col3, #T_91002_row0_col4, #T_91002_row1_col0, #T_91002_row1_col1, #T_91002_row1_col2, #T_91002_row1_col3, #T_91002_row1_col4, #T_91002_row2_col0, #T_91002_row2_col1, #T_91002_row2_col2, #T_91002_row2_col3, #T_91002_row2_col4, #T_91002_row3_col0, #T_91002_row3_col1, #T_91002_row3_col2, #T_91002_row3_col3, #T_91002_row3_col4, #T_91002_row4_col0, #T_91002_row4_col1, #T_91002_row4_col2, #T_91002_row4_col3, #T_91002_row4_col4 {\n",
       "  background-color: #121212;\n",
       "  color: white;\n",
       "  border-color: white;\n",
       "}\n",
       "</style>\n",
       "<table id=\"T_91002\">\n",
       "  <caption>Histórico de Preços dos Ativos e do IBOV</caption>\n",
       "  <thead>\n",
       "    <tr>\n",
       "      <th class=\"blank level0\" >&nbsp;</th>\n",
       "      <th id=\"T_91002_level0_col0\" class=\"col_heading level0 col0\" >ITUB4</th>\n",
       "      <th id=\"T_91002_level0_col1\" class=\"col_heading level0 col1\" >BBAS3</th>\n",
       "      <th id=\"T_91002_level0_col2\" class=\"col_heading level0 col2\" >VALE3</th>\n",
       "      <th id=\"T_91002_level0_col3\" class=\"col_heading level0 col3\" >EGIE3</th>\n",
       "      <th id=\"T_91002_level0_col4\" class=\"col_heading level0 col4\" >SLCE3</th>\n",
       "    </tr>\n",
       "    <tr>\n",
       "      <th class=\"index_name level0\" >Date</th>\n",
       "      <th class=\"blank col0\" >&nbsp;</th>\n",
       "      <th class=\"blank col1\" >&nbsp;</th>\n",
       "      <th class=\"blank col2\" >&nbsp;</th>\n",
       "      <th class=\"blank col3\" >&nbsp;</th>\n",
       "      <th class=\"blank col4\" >&nbsp;</th>\n",
       "    </tr>\n",
       "  </thead>\n",
       "  <tbody>\n",
       "    <tr>\n",
       "      <th id=\"T_91002_level0_row0\" class=\"row_heading level0 row0\" >29-01-2025</th>\n",
       "      <td id=\"T_91002_row0_col0\" class=\"data row0 col0\" >33.20</td>\n",
       "      <td id=\"T_91002_row0_col1\" class=\"data row0 col1\" >27.44</td>\n",
       "      <td id=\"T_91002_row0_col2\" class=\"data row0 col2\" >52.80</td>\n",
       "      <td id=\"T_91002_row0_col3\" class=\"data row0 col3\" >36.72</td>\n",
       "      <td id=\"T_91002_row0_col4\" class=\"data row0 col4\" >17.52</td>\n",
       "    </tr>\n",
       "    <tr>\n",
       "      <th id=\"T_91002_level0_row1\" class=\"row_heading level0 row1\" >30-01-2025</th>\n",
       "      <td id=\"T_91002_row1_col0\" class=\"data row1 col0\" >34.01</td>\n",
       "      <td id=\"T_91002_row1_col1\" class=\"data row1 col1\" >27.64</td>\n",
       "      <td id=\"T_91002_row1_col2\" class=\"data row1 col2\" >55.03</td>\n",
       "      <td id=\"T_91002_row1_col3\" class=\"data row1 col3\" >36.85</td>\n",
       "      <td id=\"T_91002_row1_col4\" class=\"data row1 col4\" >17.89</td>\n",
       "    </tr>\n",
       "    <tr>\n",
       "      <th id=\"T_91002_level0_row2\" class=\"row_heading level0 row2\" >31-01-2025</th>\n",
       "      <td id=\"T_91002_row2_col0\" class=\"data row2 col0\" >33.79</td>\n",
       "      <td id=\"T_91002_row2_col1\" class=\"data row2 col1\" >27.68</td>\n",
       "      <td id=\"T_91002_row2_col2\" class=\"data row2 col2\" >54.17</td>\n",
       "      <td id=\"T_91002_row2_col3\" class=\"data row2 col3\" >36.80</td>\n",
       "      <td id=\"T_91002_row2_col4\" class=\"data row2 col4\" >17.36</td>\n",
       "    </tr>\n",
       "    <tr>\n",
       "      <th id=\"T_91002_level0_row3\" class=\"row_heading level0 row3\" >03-02-2025</th>\n",
       "      <td id=\"T_91002_row3_col0\" class=\"data row3 col0\" >33.48</td>\n",
       "      <td id=\"T_91002_row3_col1\" class=\"data row3 col1\" >27.61</td>\n",
       "      <td id=\"T_91002_row3_col2\" class=\"data row3 col2\" >54.21</td>\n",
       "      <td id=\"T_91002_row3_col3\" class=\"data row3 col3\" >36.31</td>\n",
       "      <td id=\"T_91002_row3_col4\" class=\"data row3 col4\" >17.48</td>\n",
       "    </tr>\n",
       "    <tr>\n",
       "      <th id=\"T_91002_level0_row4\" class=\"row_heading level0 row4\" >04-02-2025</th>\n",
       "      <td id=\"T_91002_row4_col0\" class=\"data row4 col0\" >33.79</td>\n",
       "      <td id=\"T_91002_row4_col1\" class=\"data row4 col1\" >27.89</td>\n",
       "      <td id=\"T_91002_row4_col2\" class=\"data row4 col2\" >54.01</td>\n",
       "      <td id=\"T_91002_row4_col3\" class=\"data row4 col3\" >36.29</td>\n",
       "      <td id=\"T_91002_row4_col4\" class=\"data row4 col4\" >17.72</td>\n",
       "    </tr>\n",
       "  </tbody>\n",
       "</table>\n"
      ],
      "text/plain": [
       "<pandas.io.formats.style.Styler at 0x2beaef4b610>"
      ]
     },
     "metadata": {},
     "output_type": "display_data"
    }
   ],
   "source": [
    "df_historico = pd.concat([yf.Ticker(ticker + \".SA\").history(period=\"1y\")['Close'].rename(ticker) for ticker in carteira['Ticker']], axis=1) # pega o histórico de cada ativo\n",
    "# obs: as colunas são coletadas com base na variavel ticker e passado para a função history que por sua vez pega o historico de cada ativo e as organiza em colunas atravez do metodo rename\n",
    "\n",
    "df_historico.index = df_historico.index.strftime('%d-%m-%Y') # formata a data\n",
    "\n",
    "display(df_historico.tail(5).style.set_caption(\"Histórico de Preços dos Ativos e do IBOV\") # printa o histórico dos ativos dos ultimos 5 dias\n",
    "       .format(\"{:.2f}\") # formata os valores\n",
    "       .set_properties(**{'background-color': '#121212', 'color': 'white', 'border-color': 'white'})) # formata o estilo"
   ]
  },
  {
   "cell_type": "code",
   "execution_count": 50,
   "metadata": {},
   "outputs": [
    {
     "name": "stdout",
     "output_type": "stream",
     "text": [
      "  Ticker  Quantidade  Preço Atual   Valor Total  Contribuição (%)\n",
      "0  ITUB4        1000    33.810001  3.381000e+04        -18.842030\n",
      "1  BBAS3      100000    27.900000  2.790000e+06         75.555603\n",
      "2  VALE3         400    54.009998  2.160400e+04        -19.260078\n",
      "3  EGIE3        2000    36.290001  7.258000e+04        -17.514184\n",
      "4  SLCE3         100    17.719999  1.772000e+03        -19.939310\n"
     ]
    }
   ],
   "source": [
    "print(carteira) # imprime a carteira"
   ]
  },
  {
   "cell_type": "code",
   "execution_count": 51,
   "metadata": {},
   "outputs": [],
   "source": [
    "carteira.to_csv(\"resultado_carteira.csv\", index=False) # salva a carteira em um arquivo csv"
   ]
  }
 ],
 "metadata": {
  "kernelspec": {
   "display_name": "Python 3",
   "language": "python",
   "name": "python3"
  },
  "language_info": {
   "codemirror_mode": {
    "name": "ipython",
    "version": 3
   },
   "file_extension": ".py",
   "mimetype": "text/x-python",
   "name": "python",
   "nbconvert_exporter": "python",
   "pygments_lexer": "ipython3",
   "version": "3.13.1"
  }
 },
 "nbformat": 4,
 "nbformat_minor": 2
}
